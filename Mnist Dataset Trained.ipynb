{
 "cells": [
  {
   "cell_type": "markdown",
   "metadata": {},
   "source": [
    "# Training Mnist dataset for practising purpose"
   ]
  },
  {
   "cell_type": "markdown",
   "metadata": {},
   "source": [
    "##### Importing the dataset"
   ]
  },
  {
   "cell_type": "code",
   "execution_count": 7,
   "metadata": {},
   "outputs": [],
   "source": [
    "from tensorflow.keras.datasets import mnist"
   ]
  },
  {
   "cell_type": "markdown",
   "metadata": {},
   "source": [
    "##### Checking if the dataset is already downloaded and saved using pickle "
   ]
  },
  {
   "cell_type": "markdown",
   "metadata": {},
   "source": [
    "##### Importing pickle to store the train and test datasets "
   ]
  },
  {
   "cell_type": "code",
   "execution_count": 8,
   "metadata": {},
   "outputs": [],
   "source": [
    "import pickle"
   ]
  },
  {
   "cell_type": "markdown",
   "metadata": {},
   "source": [
    "##### Method to download and store the dataset"
   ]
  },
  {
   "cell_type": "code",
   "execution_count": 11,
   "metadata": {},
   "outputs": [],
   "source": [
    "def downloadDataset():\n",
    "    \n",
    "    global x_train\n",
    "    global x_test\n",
    "    global y_train\n",
    "    global y_test\n",
    "    \n",
    "    (x_train, y_train), (x_test, y_test) = mnist.load_data()\n",
    "    \n",
    "    with open(\"x_train\", \"wb\") as f:\n",
    "        pickle.dump(x_train, f)\n",
    "\n",
    "    with open(\"x_test\", \"wb\") as f:\n",
    "        pickle.dump(x_test, f)\n",
    "\n",
    "    with open(\"y_train\", \"wb\") as f:\n",
    "        pickle.dump(y_train, f)\n",
    "\n",
    "    with open(\"y_test\", \"wb\") as f:\n",
    "        pickle.dump(y_test, f)"
   ]
  },
  {
   "cell_type": "markdown",
   "metadata": {},
   "source": [
    "##### Method to load the downloaded data"
   ]
  },
  {
   "cell_type": "code",
   "execution_count": 12,
   "metadata": {},
   "outputs": [],
   "source": [
    "def loadDataset():\n",
    "    \n",
    "    global x_train\n",
    "    global x_test\n",
    "    global y_train\n",
    "    global y_test\n",
    "    \n",
    "    with open(\"x_train\", \"rb\") as f:\n",
    "        \n",
    "        x_train = pickle.load(f)\n",
    "        \n",
    "    with open(\"x_test\", \"rb\") as f:\n",
    "        \n",
    "        x_test = pickle.load(f)    \n",
    "    \n",
    "    with open(\"y_train\", \"rb\") as f:\n",
    "        \n",
    "        y_train = pickle.load(f)\n",
    "    \n",
    "    with open(\"y_test\", \"rb\") as f:\n",
    "        \n",
    "        x_test = pickle.load(f)"
   ]
  },
  {
   "cell_type": "markdown",
   "metadata": {},
   "source": [
    "##### Importing the dataset "
   ]
  },
  {
   "cell_type": "code",
   "execution_count": 13,
   "metadata": {},
   "outputs": [
    {
     "name": "stdout",
     "output_type": "stream",
     "text": [
      "Dataset found. Loading the dataset into objects\n"
     ]
    }
   ],
   "source": [
    "import os\n",
    "\n",
    "\n",
    "if (os.path.exists('x_train')):\n",
    "    \n",
    "    print (\"Dataset found. Loading the dataset into objects\")\n",
    "    loadDataset()\n",
    "    \n",
    "else:\n",
    "    \n",
    "    print (\"Dataset not found. Downloading the dataset\")\n",
    "    downloadDataset()\n",
    "    "
   ]
  },
  {
   "cell_type": "markdown",
   "metadata": {},
   "source": [
    "### Displaying sample Image from the dataset"
   ]
  },
  {
   "cell_type": "code",
   "execution_count": 27,
   "metadata": {},
   "outputs": [],
   "source": [
    "import numpy as np\n",
    "import matplotlib.pyplot as plt"
   ]
  },
  {
   "cell_type": "code",
   "execution_count": 28,
   "metadata": {},
   "outputs": [],
   "source": [
    "rand_14 = np.random.randint(0, x_train.shape[0], 14)"
   ]
  },
  {
   "cell_type": "code",
   "execution_count": 29,
   "metadata": {},
   "outputs": [],
   "source": [
    "sample_digits = x_train[rand_14]\n",
    "\n",
    "sample_labels = y_train[rand_14]"
   ]
  },
  {
   "cell_type": "code",
   "execution_count": 43,
   "metadata": {},
   "outputs": [
    {
     "data": {
      "image/png": "[encoded data removed]",
      "text/plain": [
       "<Figure size 864x360 with 14 Axes>"
      ]
     },
     "metadata": {
      "needs_background": "light"
     },
     "output_type": "display_data"
    }
   ],
   "source": [
    "rows, cols = 2 , 7 \n",
    "f, ax = plt.subplots(rows, cols, figsize=(12,5),\n",
    "                     gridspec_kw={'wspace':0.03, 'hspace':0.01}, \n",
    "squeeze=True)"
   ]
  },
  {
   "cell_type": "code",
   "execution_count": 44,
   "metadata": {},
   "outputs": [],
   "source": [
    "for r in range(rows):\n",
    "    \n",
    "    for c in range(cols):\n",
    "        \n",
    "        image_index = r * 7 + c\n",
    "        \n",
    "        ax[r,c].axis(\"off\")\n",
    "        ax[r,c].imshow(x_train[image_index], cmap=\"gray\")\n",
    "        ax[r,c].set_title('No. %d' % y_train[image_index])\n",
    "        \n",
    "plt.show()\n"
   ]
  },
  {
   "cell_type": "code",
   "execution_count": 45,
   "metadata": {},
   "outputs": [],
   "source": [
    "plt.close()"
   ]
  }
 ],
 "metadata": {
  "kernelspec": {
   "display_name": "Python 3",
   "language": "python",
   "name": "python3"
  },
  "language_info": {
   "codemirror_mode": {
    "name": "ipython",
    "version": 3
   },
   "file_extension": ".py",
   "mimetype": "text/x-python",
   "name": "python",
   "nbconvert_exporter": "python",
   "pygments_lexer": "ipython3",
   "version": "3.6.7"
  }
 },
 "nbformat": 4,
 "nbformat_minor": 2
}
