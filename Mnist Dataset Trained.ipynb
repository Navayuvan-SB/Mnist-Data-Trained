{
 "cells": [
  {
   "cell_type": "markdown",
   "metadata": {},
   "source": [
    "# Training Mnist dataset for practising purpose"
   ]
  },
  {
   "cell_type": "markdown",
   "metadata": {},
   "source": [
    "##### Importing the dataset"
   ]
  },
  {
   "cell_type": "code",
   "execution_count": 1,
   "metadata": {},
   "outputs": [],
   "source": [
    "from tensorflow.keras.datasets import mnist"
   ]
  },
  {
   "cell_type": "markdown",
   "metadata": {},
   "source": [
    "##### Checking if the dataset is already downloaded and saved using pickle "
   ]
  },
  {
   "cell_type": "markdown",
   "metadata": {},
   "source": [
    "##### Importing pickle to store the train and test datasets "
   ]
  },
  {
   "cell_type": "code",
   "execution_count": 2,
   "metadata": {},
   "outputs": [],
   "source": [
    "import pickle"
   ]
  },
  {
   "cell_type": "markdown",
   "metadata": {},
   "source": [
    "##### Method to download and store the dataset"
   ]
  },
  {
   "cell_type": "code",
   "execution_count": 3,
   "metadata": {},
   "outputs": [],
   "source": [
    "def downloadDataset():\n",
    "    \n",
    "    global x_train\n",
    "    global x_test\n",
    "    global y_train\n",
    "    global y_test\n",
    "    \n",
    "    (x_train, y_train), (x_test, y_test) = mnist.load_data()\n",
    "    \n",
    "    with open(\"x_train\", \"wb\") as f:\n",
    "        pickle.dump(x_train, f)\n",
    "\n",
    "    with open(\"x_test\", \"wb\") as f:\n",
    "        pickle.dump(x_test, f)\n",
    "\n",
    "    with open(\"y_train\", \"wb\") as f:\n",
    "        pickle.dump(y_train, f)\n",
    "\n",
    "    with open(\"y_test\", \"wb\") as f:\n",
    "        pickle.dump(y_test, f)"
   ]
  },
  {
   "cell_type": "markdown",
   "metadata": {},
   "source": [
    "##### Method to load the downloaded data"
   ]
  },
  {
   "cell_type": "code",
   "execution_count": 4,
   "metadata": {},
   "outputs": [],
   "source": [
    "def loadDataset():\n",
    "    \n",
    "    global x_train\n",
    "    global x_test\n",
    "    global y_train\n",
    "    global y_test\n",
    "    \n",
    "    with open(\"x_train\", \"rb\") as f:\n",
    "        \n",
    "        x_train = pickle.load(f)\n",
    "        \n",
    "    with open(\"x_test\", \"rb\") as f:\n",
    "        \n",
    "        x_test = pickle.load(f)    \n",
    "    \n",
    "    with open(\"y_train\", \"rb\") as f:\n",
    "        \n",
    "        y_train = pickle.load(f)\n",
    "    \n",
    "    with open(\"y_test\", \"rb\") as f:\n",
    "        \n",
    "        y_test = pickle.load(f)"
   ]
  },
  {
   "cell_type": "markdown",
   "metadata": {},
   "source": [
    "##### Importing the dataset "
   ]
  },
  {
   "cell_type": "code",
   "execution_count": 5,
   "metadata": {},
   "outputs": [
    {
     "name": "stdout",
     "output_type": "stream",
     "text": [
      "Dataset found. Loading the dataset into objects\n"
     ]
    }
   ],
   "source": [
    "import os\n",
    "\n",
    "\n",
    "if (os.path.exists('x_train')):\n",
    "    \n",
    "    print (\"Dataset found. Loading the dataset into objects\")\n",
    "    loadDataset()\n",
    "    \n",
    "else:\n",
    "    \n",
    "    print (\"Dataset not found. Downloading the dataset\")\n",
    "    downloadDataset()\n",
    "    "
   ]
  },
  {
   "cell_type": "markdown",
   "metadata": {},
   "source": [
    "### Displaying sample Image from the dataset"
   ]
  },
  {
   "cell_type": "code",
   "execution_count": 6,
   "metadata": {},
   "outputs": [],
   "source": [
    "import numpy as np\n",
    "import matplotlib.pyplot as plt"
   ]
  },
  {
   "cell_type": "code",
   "execution_count": 7,
   "metadata": {},
   "outputs": [],
   "source": [
    "rand_14 = np.random.randint(0, x_train.shape[0], 14)"
   ]
  },
  {
   "cell_type": "code",
   "execution_count": 8,
   "metadata": {},
   "outputs": [],
   "source": [
    "sample_digits = x_train[rand_14]\n",
    "\n",
    "sample_labels = y_train[rand_14]"
   ]
  },
  {
   "cell_type": "code",
   "execution_count": 9,
   "metadata": {},
   "outputs": [
    {
     "data": {
      "image/png": "[encoded data removed]",
      "text/plain": [
       "<Figure size 864x360 with 14 Axes>"
      ]
     },
     "metadata": {
      "needs_background": "light"
     },
     "output_type": "display_data"
    }
   ],
   "source": [
    "rows, cols = 2 , 7 \n",
    "f, ax = plt.subplots(rows, cols, figsize=(12,5),\n",
    "                     gridspec_kw={'wspace':0.03, 'hspace':0.01}, \n",
    "squeeze=True)"
   ]
  },
  {
   "cell_type": "code",
   "execution_count": 10,
   "metadata": {},
   "outputs": [],
   "source": [
    "for r in range(rows):\n",
    "    \n",
    "    for c in range(cols):\n",
    "        \n",
    "        image_index = r * 7 + c\n",
    "        \n",
    "        ax[r,c].axis(\"off\")\n",
    "        ax[r,c].imshow(x_train[image_index], cmap=\"gray\")\n",
    "        ax[r,c].set_title('No. %d' % y_train[image_index])\n",
    "        \n",
    "plt.show()\n"
   ]
  },
  {
   "cell_type": "markdown",
   "metadata": {},
   "source": [
    "### Finding the height and width of the image "
   ]
  },
  {
   "cell_type": "code",
   "execution_count": 11,
   "metadata": {},
   "outputs": [],
   "source": [
    "image_height = x_train.shape[1]\n",
    "\n",
    "image_width = x_train.shape[2]"
   ]
  },
  {
   "cell_type": "code",
   "execution_count": 12,
   "metadata": {},
   "outputs": [
    {
     "name": "stdout",
     "output_type": "stream",
     "text": [
      "28\n",
      "28\n"
     ]
    }
   ],
   "source": [
    "print (image_height)\n",
    "\n",
    "print (image_width)\n",
    "\n",
    "num_channels = 1"
   ]
  },
  {
   "cell_type": "code",
   "execution_count": 13,
   "metadata": {},
   "outputs": [
    {
     "name": "stdout",
     "output_type": "stream",
     "text": [
      "[[[0 0 0 ... 0 0 0]\n",
      "  [0 0 0 ... 0 0 0]\n",
      "  [0 0 0 ... 0 0 0]\n",
      "  ...\n",
      "  [0 0 0 ... 0 0 0]\n",
      "  [0 0 0 ... 0 0 0]\n",
      "  [0 0 0 ... 0 0 0]]\n",
      "\n",
      " [[0 0 0 ... 0 0 0]\n",
      "  [0 0 0 ... 0 0 0]\n",
      "  [0 0 0 ... 0 0 0]\n",
      "  ...\n",
      "  [0 0 0 ... 0 0 0]\n",
      "  [0 0 0 ... 0 0 0]\n",
      "  [0 0 0 ... 0 0 0]]\n",
      "\n",
      " [[0 0 0 ... 0 0 0]\n",
      "  [0 0 0 ... 0 0 0]\n",
      "  [0 0 0 ... 0 0 0]\n",
      "  ...\n",
      "  [0 0 0 ... 0 0 0]\n",
      "  [0 0 0 ... 0 0 0]\n",
      "  [0 0 0 ... 0 0 0]]\n",
      "\n",
      " ...\n",
      "\n",
      " [[0 0 0 ... 0 0 0]\n",
      "  [0 0 0 ... 0 0 0]\n",
      "  [0 0 0 ... 0 0 0]\n",
      "  ...\n",
      "  [0 0 0 ... 0 0 0]\n",
      "  [0 0 0 ... 0 0 0]\n",
      "  [0 0 0 ... 0 0 0]]\n",
      "\n",
      " [[0 0 0 ... 0 0 0]\n",
      "  [0 0 0 ... 0 0 0]\n",
      "  [0 0 0 ... 0 0 0]\n",
      "  ...\n",
      "  [0 0 0 ... 0 0 0]\n",
      "  [0 0 0 ... 0 0 0]\n",
      "  [0 0 0 ... 0 0 0]]\n",
      "\n",
      " [[0 0 0 ... 0 0 0]\n",
      "  [0 0 0 ... 0 0 0]\n",
      "  [0 0 0 ... 0 0 0]\n",
      "  ...\n",
      "  [0 0 0 ... 0 0 0]\n",
      "  [0 0 0 ... 0 0 0]\n",
      "  [0 0 0 ... 0 0 0]]]\n"
     ]
    }
   ],
   "source": [
    "print (x_test)"
   ]
  },
  {
   "cell_type": "markdown",
   "metadata": {},
   "source": [
    "### Reshaping the image for channels"
   ]
  },
  {
   "cell_type": "code",
   "execution_count": 14,
   "metadata": {},
   "outputs": [],
   "source": [
    "train_data = np.reshape(x_train, (x_train.shape[0], image_height, image_width, num_channels))\n",
    "\n",
    "\n",
    "test_data = np.reshape(x_test, (x_test.shape[0], image_height, image_width, num_channels))"
   ]
  },
  {
   "cell_type": "code",
   "execution_count": 15,
   "metadata": {},
   "outputs": [
    {
     "data": {
      "text/plain": [
       "(60000, 28, 28)"
      ]
     },
     "execution_count": 15,
     "metadata": {},
     "output_type": "execute_result"
    }
   ],
   "source": [
    "x_train.shape"
   ]
  },
  {
   "cell_type": "code",
   "execution_count": 16,
   "metadata": {},
   "outputs": [
    {
     "data": {
      "text/plain": [
       "(60000, 28, 28, 1)"
      ]
     },
     "execution_count": 16,
     "metadata": {},
     "output_type": "execute_result"
    }
   ],
   "source": [
    "train_data.shape"
   ]
  },
  {
   "cell_type": "markdown",
   "metadata": {},
   "source": [
    "### Rescalling the image "
   ]
  },
  {
   "cell_type": "code",
   "execution_count": 17,
   "metadata": {},
   "outputs": [],
   "source": [
    "train_data = train_data.astype('float32')/255.\n",
    "\n",
    "test_data = test_data.astype('float32')/255."
   ]
  },
  {
   "cell_type": "markdown",
   "metadata": {},
   "source": [
    "### One-hot encoding the labels "
   ]
  },
  {
   "cell_type": "code",
   "execution_count": 18,
   "metadata": {},
   "outputs": [],
   "source": [
    "from tensorflow.keras.utils import to_categorical"
   ]
  },
  {
   "cell_type": "code",
   "execution_count": 19,
   "metadata": {},
   "outputs": [],
   "source": [
    "num_classes = 10"
   ]
  },
  {
   "cell_type": "code",
   "execution_count": 20,
   "metadata": {},
   "outputs": [],
   "source": [
    "train_labels = to_categorical(y_train, num_classes)\n",
    "\n",
    "test_labels = to_categorical(y_test, num_classes)"
   ]
  },
  {
   "cell_type": "code",
   "execution_count": 21,
   "metadata": {},
   "outputs": [
    {
     "name": "stdout",
     "output_type": "stream",
     "text": [
      "[[0. 0. 0. ... 0. 0. 0.]\n",
      " [1. 0. 0. ... 0. 0. 0.]\n",
      " [0. 0. 0. ... 0. 0. 0.]\n",
      " ...\n",
      " [0. 0. 0. ... 0. 0. 0.]\n",
      " [0. 0. 0. ... 0. 0. 0.]\n",
      " [0. 0. 0. ... 0. 1. 0.]]\n",
      "[[0. 0. 0. ... 1. 0. 0.]\n",
      " [0. 0. 1. ... 0. 0. 0.]\n",
      " [0. 1. 0. ... 0. 0. 0.]\n",
      " ...\n",
      " [0. 0. 0. ... 0. 0. 0.]\n",
      " [0. 0. 0. ... 0. 0. 0.]\n",
      " [0. 0. 0. ... 0. 0. 0.]]\n"
     ]
    }
   ],
   "source": [
    "print (train_labels)\n",
    "\n",
    "print (test_labels)"
   ]
  },
  {
   "cell_type": "code",
   "execution_count": 22,
   "metadata": {},
   "outputs": [
    {
     "data": {
      "text/plain": [
       "(60000, 10)"
      ]
     },
     "execution_count": 22,
     "metadata": {},
     "output_type": "execute_result"
    }
   ],
   "source": [
    "train_labels.shape"
   ]
  },
  {
   "cell_type": "markdown",
   "metadata": {},
   "source": [
    "### Splitting the 10% of training dataset for evaluation purpose "
   ]
  },
  {
   "cell_type": "markdown",
   "metadata": {},
   "source": [
    "##### Shuffing the data "
   ]
  },
  {
   "cell_type": "code",
   "execution_count": 23,
   "metadata": {},
   "outputs": [],
   "source": [
    "for _ in range(5):\n",
    "    \n",
    "    indexes = np.random.permutation(len(train_data))"
   ]
  },
  {
   "cell_type": "code",
   "execution_count": 24,
   "metadata": {},
   "outputs": [],
   "source": [
    "train_data = train_data[indexes]\n",
    "\n",
    "train_labels = train_labels[indexes]"
   ]
  },
  {
   "cell_type": "markdown",
   "metadata": {},
   "source": [
    "##### Splitting the data "
   ]
  },
  {
   "cell_type": "code",
   "execution_count": 25,
   "metadata": {},
   "outputs": [],
   "source": [
    "val_prec = 0.10\n",
    "\n",
    "val_count = int(val_prec * len(train_data))"
   ]
  },
  {
   "cell_type": "code",
   "execution_count": 26,
   "metadata": {},
   "outputs": [],
   "source": [
    "val_data = train_data[:val_count,:]\n",
    "\n",
    "val_label = train_labels[:val_count,:]"
   ]
  },
  {
   "cell_type": "code",
   "execution_count": 27,
   "metadata": {},
   "outputs": [],
   "source": [
    "train_data2 = train_data[val_count:, :]\n",
    "\n",
    "train_label2 = train_labels[val_count:, :]"
   ]
  },
  {
   "cell_type": "markdown",
   "metadata": {},
   "source": [
    "### Building our CNN model "
   ]
  },
  {
   "cell_type": "code",
   "execution_count": 28,
   "metadata": {},
   "outputs": [],
   "source": [
    "from tensorflow.keras.models import Sequential"
   ]
  },
  {
   "cell_type": "code",
   "execution_count": 29,
   "metadata": {},
   "outputs": [],
   "source": [
    "from tensorflow.keras.layers import Conv2D, MaxPooling2D, Flatten, Dense, Dropout"
   ]
  },
  {
   "cell_type": "code",
   "execution_count": 30,
   "metadata": {},
   "outputs": [],
   "source": [
    "def build_model():\n",
    "    \n",
    "    model = Sequential()\n",
    "\n",
    "    model.add(Conv2D(filters=32, kernel_size= (3,3),\n",
    "                 activation='relu', padding='same',\n",
    "                input_shape=(image_height, image_width, num_channels)))\n",
    "    model.add(MaxPooling2D(pool_size=(2,2)))\n",
    "\n",
    "    model.add(Conv2D(filters=64, kernel_size=(3,3), activation='relu',\n",
    "                padding='same'))\n",
    "\n",
    "    model.add(MaxPooling2D(pool_size=(2,2)))\n",
    "\n",
    "    model.add(Conv2D(filters=64, kernel_size=(3,3), activation='relu',\n",
    "                padding='same'))\n",
    "\n",
    "    model.add(MaxPooling2D(pool_size=(2,2)))\n",
    "\n",
    "    model.add(Flatten())\n",
    "    \n",
    "    model.add(Dense(128, activation='relu'))\n",
    "    \n",
    "    model.add(Dense(num_classes, activation='softmax'))\n",
    "    \n",
    "    model.compile(optimizer= 'adam', loss='categorical_crossentropy', metrics=['accuracy'])\n",
    "    \n",
    "    return model"
   ]
  },
  {
   "cell_type": "code",
   "execution_count": 31,
   "metadata": {},
   "outputs": [],
   "source": [
    "model = build_model()"
   ]
  },
  {
   "cell_type": "code",
   "execution_count": 32,
   "metadata": {},
   "outputs": [
    {
     "name": "stdout",
     "output_type": "stream",
     "text": [
      "_________________________________________________________________\n",
      "Layer (type)                 Output Shape              Param #   \n",
      "=================================================================\n",
      "conv2d (Conv2D)              (None, 28, 28, 32)        320       \n",
      "_________________________________________________________________\n",
      "max_pooling2d (MaxPooling2D) (None, 14, 14, 32)        0         \n",
      "_________________________________________________________________\n",
      "conv2d_1 (Conv2D)            (None, 14, 14, 64)        18496     \n",
      "_________________________________________________________________\n",
      "max_pooling2d_1 (MaxPooling2 (None, 7, 7, 64)          0         \n",
      "_________________________________________________________________\n",
      "conv2d_2 (Conv2D)            (None, 7, 7, 64)          36928     \n",
      "_________________________________________________________________\n",
      "max_pooling2d_2 (MaxPooling2 (None, 3, 3, 64)          0         \n",
      "_________________________________________________________________\n",
      "flatten (Flatten)            (None, 576)               0         \n",
      "_________________________________________________________________\n",
      "dense (Dense)                (None, 128)               73856     \n",
      "_________________________________________________________________\n",
      "dense_1 (Dense)              (None, 10)                1290      \n",
      "=================================================================\n",
      "Total params: 130,890\n",
      "Trainable params: 130,890\n",
      "Non-trainable params: 0\n",
      "_________________________________________________________________\n",
      "None\n"
     ]
    }
   ],
   "source": [
    "print(model.summary())"
   ]
  },
  {
   "cell_type": "code",
   "execution_count": 33,
   "metadata": {
    "scrolled": true
   },
   "outputs": [
    {
     "name": "stdout",
     "output_type": "stream",
     "text": [
      "Train on 54000 samples, validate on 6000 samples\n",
      "Epoch 1/15\n",
      "54000/54000 [==============================] - 39s 721us/step - loss: 0.1968 - acc: 0.9395 - val_loss: 0.0662 - val_acc: 0.9795\n",
      "Epoch 2/15\n",
      "54000/54000 [==============================] - 41s 755us/step - loss: 0.0494 - acc: 0.9847 - val_loss: 0.0457 - val_acc: 0.9848\n",
      "Epoch 3/15\n",
      "54000/54000 [==============================] - 47s 874us/step - loss: 0.0356 - acc: 0.9892 - val_loss: 0.0408 - val_acc: 0.9860\n",
      "Epoch 4/15\n",
      "54000/54000 [==============================] - 50s 925us/step - loss: 0.0272 - acc: 0.9908 - val_loss: 0.0334 - val_acc: 0.9892\n",
      "Epoch 5/15\n",
      "54000/54000 [==============================] - 48s 889us/step - loss: 0.0210 - acc: 0.9933 - val_loss: 0.0300 - val_acc: 0.9903\n",
      "Epoch 6/15\n",
      "54000/54000 [==============================] - 53s 975us/step - loss: 0.0188 - acc: 0.9938 - val_loss: 0.0316 - val_acc: 0.9898\n",
      "Epoch 7/15\n",
      "54000/54000 [==============================] - 53s 972us/step - loss: 0.0149 - acc: 0.9952 - val_loss: 0.0337 - val_acc: 0.9900\n",
      "Epoch 8/15\n",
      "54000/54000 [==============================] - 49s 916us/step - loss: 0.0130 - acc: 0.9958 - val_loss: 0.0286 - val_acc: 0.9908\n",
      "Epoch 9/15\n",
      "54000/54000 [==============================] - 51s 944us/step - loss: 0.0100 - acc: 0.9965 - val_loss: 0.0471 - val_acc: 0.9895\n",
      "Epoch 10/15\n",
      "54000/54000 [==============================] - 52s 959us/step - loss: 0.0100 - acc: 0.9966 - val_loss: 0.0508 - val_acc: 0.9873\n",
      "Epoch 11/15\n",
      "54000/54000 [==============================] - 50s 931us/step - loss: 0.0095 - acc: 0.9969 - val_loss: 0.0323 - val_acc: 0.9925\n",
      "Epoch 12/15\n",
      "54000/54000 [==============================] - 50s 920us/step - loss: 0.0071 - acc: 0.9977 - val_loss: 0.0361 - val_acc: 0.9915\n",
      "Epoch 13/15\n",
      "54000/54000 [==============================] - 50s 922us/step - loss: 0.0084 - acc: 0.9972 - val_loss: 0.0320 - val_acc: 0.9918\n",
      "Epoch 14/15\n",
      "54000/54000 [==============================] - 51s 938us/step - loss: 0.0064 - acc: 0.9979 - val_loss: 0.0370 - val_acc: 0.9917\n",
      "Epoch 15/15\n",
      "54000/54000 [==============================] - 50s 932us/step - loss: 0.0065 - acc: 0.9978 - val_loss: 0.0412 - val_acc: 0.9913\n"
     ]
    }
   ],
   "source": [
    "results = model.fit(train_data2, train_label2, epochs=15, batch_size=64,\n",
    "                   validation_data=(val_data, val_label))"
   ]
  },
  {
   "cell_type": "code",
   "execution_count": 36,
   "metadata": {
    "scrolled": true
   },
   "outputs": [
    {
     "name": "stdout",
     "output_type": "stream",
     "text": [
      "{'val_loss': [0.06617238785823186, 0.045721309181923665, 0.040838897123932835, 0.03342191426021358, 0.03004019657957057, 0.03158534253730128, 0.03374603696197543, 0.02856594854872674, 0.047087860325894626, 0.05084527555401049, 0.03229815224193347, 0.03607200256976163, 0.031997829025708295, 0.03695381631388348, 0.041159653733315885], 'val_acc': [0.9795000001589457, 0.9848333333333333, 0.9860000001589457, 0.9891666666666666, 0.9903333333333333, 0.9898333334922791, 0.9900000001589457, 0.9908333333333333, 0.9895000001589457, 0.9873333333333333, 0.9925, 0.9915, 0.9918333333333333, 0.9916666666666667, 0.9913333333333333], 'loss': [0.19677016062675803, 0.049352519381377434, 0.03557267086407929, 0.02721507792412821, 0.020961349041313276, 0.018769273590995, 0.01491485972149746, 0.013022880224935727, 0.010029511222725785, 0.010024980722624739, 0.009540916838466796, 0.007105177498674527, 0.00835291751262789, 0.006438410537503606, 0.0064653131368973445], 'acc': [0.9395, 0.9847222222398828, 0.9892037037037037, 0.9908333333333333, 0.9933148148148148, 0.9937777777601171, 0.9952222222222222, 0.9958148148148148, 0.9964814814814815, 0.9965555555555555, 0.9968703703703704, 0.9977222222222222, 0.9972222222398829, 0.9979259259259259, 0.9977962962962963]}\n"
     ]
    }
   ],
   "source": [
    "print (results.history)"
   ]
  },
  {
   "cell_type": "code",
   "execution_count": 40,
   "metadata": {
    "scrolled": true
   },
   "outputs": [
    {
     "data": {
      "image/png": "[encoded data removed]",
      "text/plain": [
       "<Figure size 432x288 with 1 Axes>"
      ]
     },
     "metadata": {
      "needs_background": "light"
     },
     "output_type": "display_data"
    }
   ],
   "source": [
    "plt.plot(results.history['acc'])\n",
    "plt.plot(results.history['val_acc'])\n",
    "plt.title('Model Accuracy')\n",
    "plt.ylabel('accuracy')\n",
    "plt.xlabel('epoch')\n",
    "plt.legend(['train', 'test'], loc='upper left')\n",
    "plt.show()"
   ]
  },
  {
   "cell_type": "code",
   "execution_count": 42,
   "metadata": {
    "scrolled": true
   },
   "outputs": [
    {
     "data": {
      "image/png": "[encoded data removed]",
      "text/plain": [
       "<Figure size 432x288 with 1 Axes>"
      ]
     },
     "metadata": {
      "needs_background": "light"
     },
     "output_type": "display_data"
    }
   ],
   "source": [
    "plt.plot(results.history['loss'])\n",
    "plt.plot(results.history['val_loss'])\n",
    "plt.title('Model Accuracy')\n",
    "plt.ylabel('accuracy')\n",
    "plt.xlabel('epoch')\n",
    "plt.legend(['train', 'test'], loc='upper left')\n",
    "plt.show()"
   ]
  },
  {
   "cell_type": "code",
   "execution_count": 44,
   "metadata": {
    "scrolled": true
   },
   "outputs": [
    {
     "name": "stdout",
     "output_type": "stream",
     "text": [
      "10000/10000 [==============================] - 2s 182us/step\n",
      "test loss: 0.0329 accuracy: 0.9932\n"
     ]
    }
   ],
   "source": [
    "test_loss, test_accuracy = model.evaluate(test_data, test_labels, batch_size=64)\n",
    "\n",
    "print ('test loss: %.4f accuracy: %.4f' %(test_loss, test_accuracy))"
   ]
  },
  {
   "cell_type": "markdown",
   "metadata": {},
   "source": [
    "### Results:\n",
    "    \n",
    "    Accuracy: 0.9932\n",
    "        Loss: 0.0329"
   ]
  },
  {
   "cell_type": "markdown",
   "metadata": {},
   "source": [
    "### Predictions "
   ]
  },
  {
   "cell_type": "code",
   "execution_count": 47,
   "metadata": {},
   "outputs": [],
   "source": [
    "predictions = model.predict(test_data)\n",
    "\n",
    "\n",
    "first_20_preds = np.argmax(predictions, axis=1)[:25]\n",
    "\n",
    "first_20_true = np.argmax(test_labels, axis=1)[:25]"
   ]
  },
  {
   "cell_type": "code",
   "execution_count": 49,
   "metadata": {},
   "outputs": [
    {
     "name": "stdout",
     "output_type": "stream",
     "text": [
      "[7 2 1 0 4 1 4 9 5 9 0 6 9 0 1 5 9 7 3 4 9 6 6 5 4]\n"
     ]
    }
   ],
   "source": [
    "print (first_20_preds)"
   ]
  },
  {
   "cell_type": "code",
   "execution_count": 51,
   "metadata": {},
   "outputs": [
    {
     "name": "stdout",
     "output_type": "stream",
     "text": [
      "[7 2 1 0 4 1 4 9 5 9 0 6 9 0 1 5 9 7 3 4 9 6 6 5 4]\n"
     ]
    }
   ],
   "source": [
    "print (first_20_true)"
   ]
  },
  {
   "cell_type": "code",
   "execution_count": 52,
   "metadata": {},
   "outputs": [
    {
     "name": "stdout",
     "output_type": "stream",
     "text": [
      "[ True  True  True ...  True  True  True]\n"
     ]
    }
   ],
   "source": [
    "print (np.argmax(predictions, axis=1) != np.argmax(test_labels, axis=1).sum())"
   ]
  }
 ],
 "metadata": {
  "kernelspec": {
   "display_name": "Python 3",
   "language": "python",
   "name": "python3"
  },
  "language_info": {
   "codemirror_mode": {
    "name": "ipython",
    "version": 3
   },
   "file_extension": ".py",
   "mimetype": "text/x-python",
   "name": "python",
   "nbconvert_exporter": "python",
   "pygments_lexer": "ipython3",
   "version": "3.6.7"
  }
 },
 "nbformat": 4,
 "nbformat_minor": 2
}
